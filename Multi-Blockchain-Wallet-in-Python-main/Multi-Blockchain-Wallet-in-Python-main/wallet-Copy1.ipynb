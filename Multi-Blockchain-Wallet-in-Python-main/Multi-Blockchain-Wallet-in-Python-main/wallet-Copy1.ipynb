{
 "cells": [
  {
   "cell_type": "code",
   "execution_count": 1,
   "id": "78638969-ac1c-406d-931c-73bf99dd6c00",
   "metadata": {},
   "outputs": [],
   "source": [
    "import subprocess \n",
    "import json\n",
    "import os\n",
    "from dotenv import load_dotenv\n",
    "from constants import *\n",
    "from bit import Key, PrivateKey, PrivateKeyTestnet\n",
    "from bit.network import NetworkAPI\n",
    "from bit import *\n",
    "from web3 import Web3\n",
    "from eth_account import Account"
   ]
  },
  {
   "cell_type": "code",
   "execution_count": 2,
   "id": "f7b74cd5-3536-4189-9fe4-3b71d47db9cf",
   "metadata": {},
   "outputs": [
    {
     "name": "stdout",
     "output_type": "stream",
     "text": [
      "X\n"
     ]
    }
   ],
   "source": [
    "w3 = Web3(Web3.HTTPProvider(\"http://127.0.0.1.8545\"))\n",
    "\n",
    "load_dotenv\n",
    "\n",
    "mnemonic = os.getenv('MNEMONIC', \"win %%%%%%% rely void arch\")\n",
    "print(mnemonic)"
   ]
  },
  {
   "cell_type": "code",
   "execution_count": 3,
   "id": "204428ac-1d08-41e9-a7d7-40593fd6e9c9",
   "metadata": {},
   "outputs": [],
   "source": [
    "\n",
    "def derive_wallets(mnemonic, coin, numderive):\n",
    " \n",
    "    command = f'php derive -g --mnemonic=\"{mnemonic}\" --coin=\"{coin}\" --format=json' \n",
    "    \n",
    "    p = subprocess.Popen(command, stdout=subprocess.PIPE, shell=True)\n",
    "    output, err = p.communicate()\n",
    "    p_status = p.wait()\n",
    "   \n",
    "    keys = json.loads(output)\n",
    "    return  keys"
   ]
  },
  {
   "cell_type": "code",
   "execution_count": 4,
   "id": "71f56815-a364-4dc2-b53c-d74bca9a3f89",
   "metadata": {},
   "outputs": [],
   "source": [
    "\n",
    "coins = {\"eth\", \"btc-test\", \"btc\"}\n",
    "numderive = 3"
   ]
  },
  {
   "cell_type": "code",
   "execution_count": 5,
   "id": "e56ff4ab-ffad-4462-acfb-59d28c2eb73b",
   "metadata": {},
   "outputs": [],
   "source": [
    "keys = {}\n",
    "for coin in coins:\n",
    "    keys[coin]= derive_wallets(os.getenv('mnemonic'), coin, numderive=3)"
   ]
  },
  {
   "cell_type": "code",
   "execution_count": 6,
   "id": "6086beea-084b-4208-9f51-2995bdf3c41d",
   "metadata": {},
   "outputs": [],
   "source": [
    "\n",
    "eth_PrivateKey = keys[\"eth\"][0]['privkey']\n",
    "btc_PrivateKey = keys['btc-test'][0]['privkey']"
   ]
  },
  {
   "cell_type": "code",
   "execution_count": 37,
   "id": "d215171c-824e-475d-ae36-108a5e46dc8d",
   "metadata": {},
   "outputs": [
    {
     "name": "stdout",
     "output_type": "stream",
     "text": [
      "eth_PrivateKey: \"0xd36d0f9ff2f6dc80208cd19e0b7d939f11bd1a63d10c38cdc1c58f4dbbc95edc\"\n",
      "btc_PrivateKey: \"cUMT7ptJgxrwSm9s5zSUCKUhSNVq1UC9v31vgoSusyukAciNMdDt\"\n",
      "{\n",
      " \"btc-test\": [\n",
      "  {\n",
      "   \"path\": \"m/44'/1'/0'/0/0\",\n",
      "   \"address\": \"mkwqRYLAfeoMJnnb5A9WegujdggyBeEPGD\",\n",
      "   \"xprv\": \"tprv8khhNkzGYHzyhzgCwAKEf4xVvkBbV2vWqBQpybEMhGHivv3WgwhnjdCguDwQ1ujRnN5JWEM8q8nE8zjHSrthSTvMcxb6V575s5x2zT3q1Pk\",\n",
      "   \"xpub\": \"tpubDHPjXB2WgfgebThzpoyq4UccVmhXeN7RQV1cG7Gf7Y67mQJHKLXNv7pZ5M2WvzFPpQyVgMB9znNEFMefiFvgn7r72wMott5xBJksEZUfWX5\",\n",
      "   \"privkey\": \"cUMT7ptJgxrwSm9s5zSUCKUhSNVq1UC9v31vgoSusyukAciNMdDt\",\n",
      "   \"pubkey\": \"02dcb7a11c7172966e58679c0cb207bfb95d119cc55f9fb318d0a522aaff5b9577\",\n",
      "   \"pubkeyhash\": \"3b8d4adb98c1922686a0b9b3f10ee0f1ef7a2eb8\",\n",
      "   \"index\": 0\n",
      "  },\n",
      "  {\n",
      "   \"path\": \"m/44'/1'/0'/0/1\",\n",
      "   \"address\": \"mmUQuAvBYqVpKzayhaYvnJe9VuwkRdSWPu\",\n",
      "   \"xprv\": \"tprv8khhNkzGYHzyj6e6K8iKuPTCw6YLNRA3tRKCphDT4Yis5AKoPbwFLH7zqay3WqqcsnHCwJZedosPPAXcrHehSKV7MBy57KVPQxyQ3tHyq4g\",\n",
      "   \"xpub\": \"tpubDHPjXB2WgfgecZftCnNvJo7KW84GXkLxTiuz7DFkUpXFueaa1zkqWmjs1gg5EbtryQSJ81NQyoDwvXGWvis4AtWXeZXh9juHNWhUCGZwfRJ\",\n",
      "   \"privkey\": \"cVj1Q51vqgtBEYokpcb6RtjMwVbAsaCmrQRyjMTHFm5rGoziYe44\",\n",
      "   \"pubkey\": \"024fca815b769b3e6920eb31081de336536e0a0dcba4955b6d7773b8acc205e0b4\",\n",
      "   \"pubkeyhash\": \"4155b748ac4f668e327a8b7a7c928241ba09eb85\",\n",
      "   \"index\": 1\n",
      "  },\n",
      "  {\n",
      "   \"path\": \"m/44'/1'/0'/0/2\",\n",
      "   \"address\": \"mxYAxY575hg56rGtU3n6754GfqCKRxzvep\",\n",
      "   \"xprv\": \"tprv8khhNkzGYHzymedp2vc5YrDY9Wo8pZHMTSMLVs5QX2JRV3iaHkTveCATn7hwZehVuu3HV986zzRHULnTF3dUB4gior6YYpv39vDdGmZtvo5\",\n",
      "   \"xpub\": \"tpubDHPjXB2Wgfgef7fbvaGfxFseiYK4ytUG2jx7nP7hwJ6pKXyLv9HWpgnKxHwpFx9yRGdHH7nRWwNVZJ39Neu7znX2LCPrWVgVDEN53WphdpV\",\n",
      "   \"privkey\": \"cMzhL3wx92ETkcCDyTt8ouz8pXQnp7RBpE3pHu1637Sn16qVW9vo\",\n",
      "   \"pubkey\": \"03bdfba2cebb0d9fa135451ec068d05e6ddf07d8c79c13afa46b4658b3942cf087\",\n",
      "   \"pubkeyhash\": \"bab5200f7b800fc1fda9a7449df8b99064501931\",\n",
      "   \"index\": 2\n",
      "  },\n",
      "  {\n",
      "   \"path\": \"m/44'/1'/0'/0/3\",\n",
      "   \"address\": \"myvSN79mNsWRWYdzYMoVRWB1DXe2mpRQF5\",\n",
      "   \"xprv\": \"tprv8khhNkzGYHzyqGKUePpDrhEsB5Uu4LtiXiUXTcPVdXLTmDDyyUzVueUqwf5CrqbuhdeWZLtpRDvVY2P4PHUaYz8hu8yvqwhqcKWZGnpc5qq\",\n",
      "   \"xpub\": \"tpubDHPjXB2WgfgeijMGY3UpG6tyk6zqDg5d725Jk8Ro3o8rbhUkbsp6696i7naur3ek6RvJWJ7dFhZraEQAgg4d2jHCdq9tUPDRVbXQhNhtiNC\",\n",
      "   \"privkey\": \"cTNNJqi4z4shu5ejE9FsuwryY5yDXd1VMkHMX89RXZZbL6rCcNLb\",\n",
      "   \"pubkey\": \"02f72e3279332ef86e8ea875c41dde9ad19587b99206e2de0f18104b8c23b88cd1\",\n",
      "   \"pubkeyhash\": \"c9e34345b2304f81695c4f31a9bae0b2d411852b\",\n",
      "   \"index\": 3\n",
      "  },\n",
      "  {\n",
      "   \"path\": \"m/44'/1'/0'/0/4\",\n",
      "   \"address\": \"mqVftPkzdSgVay5j2DShnGYinqRYDWtk7a\",\n",
      "   \"xprv\": \"tprv8khhNkzGYHzyuCvkk19zQeLvaJ91JEfNUYKsdsHvbQndRS4PNAGoVT41YrTAeFHPvcexdDg5TNZTDDxjqznDPikCH7gySJLEQttG1KaX7YA\",\n",
      "   \"xpub\": \"tpubDHPjXB2WgfgenfxYdepap4139KewTZrH3qvevPLE1gb2FvK9zZ6Pfwfsix5xA4rbdAnnW3zmkU81vjwS3uLPnqzEhTw4vjYXssS4ouwua18\",\n",
      "   \"privkey\": \"cTeHrRKgQccf5KLPdSFYSZi1FMdDaE8txBYVvee1smLC2Ag9V6FS\",\n",
      "   \"pubkey\": \"02080d2671dc5d4305a3392c13f0435209d2437f71f7ede0eb8be9320d85ea6bce\",\n",
      "   \"pubkeyhash\": \"6d73252cb0b7a687e164c12e465ec44a84195cbb\",\n",
      "   \"index\": 4\n",
      "  },\n",
      "  {\n",
      "   \"path\": \"m/44'/1'/0'/0/5\",\n",
      "   \"address\": \"n2cZHncL5nUYCymvZDzqr4hwEGyabqjTGC\",\n",
      "   \"xprv\": \"tprv8khhNkzGYHzyvXSShL5DHDmbP1GDtVZnt2wq1JinwrmL6c2N7Escoe1Q6ivJUfRRQZerXg3nGcwrGY1gTVMEUz1oh6QXbibHTVqLq9tuwMq\",\n",
      "   \"xpub\": \"tpubDHPjXB2WgfgeozUEayjogdRhx2nA3pkhTLYcHpm6N8Ziw6H8jdhCz8dGGryBkh76RUnMuPoKTBXC2ByxJYQjv9KxNbVYavNea74z9ePJJPU\",\n",
      "   \"privkey\": \"cSagtb3twwEuqKn79BcywNjpGtCbMjgA6kUDz9Areq4HRZVETSDj\",\n",
      "   \"pubkey\": \"03267927b90aa01ca8860bf9b3719832cae0f305fa39919bff52848f0077f23cbe\",\n",
      "   \"pubkeyhash\": \"e769ef17c58bf477a16501321553862f26e09931\",\n",
      "   \"index\": 5\n",
      "  },\n",
      "  {\n",
      "   \"path\": \"m/44'/1'/0'/0/6\",\n",
      "   \"address\": \"mqsupjFa4CrZHZCemRE9vAMaMKdZHDLtnk\",\n",
      "   \"xprv\": \"tprv8khhNkzGYHzyyrrnHrkFEpr6ScQ4iwkjsKz6xWBmCPZyeuxMzTEHe5A6S5Z8xBjoEYZjaBZvEUYCt1j8CHgyNoFBVW7d6JgHoQWa8VLeHad\",\n",
      "   \"xpub\": \"tpubDHPjXB2WgfgesKtaBWQqeEWD1duztGweSdatF2E4cfNNVQD8cr3spZmxcDhMA8ZL3A8fJgswHJWguscGsoJjBimo1gnDwjqMjyMEHSfhYKK\",\n",
      "   \"privkey\": \"cSqZnyAUgsddXNCY7QZ2FHrKbkFPgX6pvZJ9zdkhceT3tEYx9xCF\",\n",
      "   \"pubkey\": \"033a38979f991ec403ded888d12a7b35cbfe9e600234376941c32e581b91e4044b\",\n",
      "   \"pubkeyhash\": \"71a7ee24f62e40f2d7581c2e8813fbd2ee0c7a7f\",\n",
      "   \"index\": 6\n",
      "  },\n",
      "  {\n",
      "   \"path\": \"m/44'/1'/0'/0/7\",\n",
      "   \"address\": \"mjR46GuHJLcgNkcERSCpZaw4JTvV3DD7HG\",\n",
      "   \"xprv\": \"tprv8khhNkzGYHzz1Uvbf4khpUwSGAcWWAtFyA3xRXWvbg9evT29HsP1vrB44xBeMJJMpt8ihNgHx7EPiS1r1PKwAei4R7rQ8RSBqxLtpwpk5kf\",\n",
      "   \"xpub\": \"tpubDHPjXB2WgfgetwxPYiRJDtbYqC8SfW5AYTeji3ZE1wx3kwGuvGCc7LnvF739UGnVAF9gR7Eo4Qm3WGvmg9WEasiu6mcKNKY2HAvxwzS4mFS\",\n",
      "   \"privkey\": \"cREH2qYH9S3XTYp9q3ZCPvaMByaheryW1EBikYpESRNPhqZC95iA\",\n",
      "   \"pubkey\": \"0367fcc4079db6baaeed842bbe4ba5eee99c90826f9e703babb1fbe3dbf0ac0569\",\n",
      "   \"pubkeyhash\": \"2ac2d8ac9a4b915459b45407420f79e6791898e6\",\n",
      "   \"index\": 7\n",
      "  },\n",
      "  {\n",
      "   \"path\": \"m/44'/1'/0'/0/8\",\n",
      "   \"address\": \"mnKxr7cUtRTNjBXBLnL6NWECvLynQTWGix\",\n",
      "   \"xprv\": \"tprv8khhNkzGYHzz3Yz57BGh7BRFqxjhp8ejeGz1zqjuVhw9UboL6WMkUnyWiwayZDUVMMcLAaNz4rzAaf2Ht4YWn9wD1fJokqhEdq6okCAPBPn\",\n",
      "   \"xpub\": \"tpubDHPjXB2Wgfgew21rzpwHWb5NQzFdyTqeDaaoHMnCuyjYK646iuBLfHbNu51cUL3uLMtToMpwJ7V9yN7ZWVeR7V9LsHBS4n75Yd4aLBDjQp9\",\n",
      "   \"privkey\": \"cV2ZzSLEZrAC6GEdHXxqJBqzxzwevMshUXCuhD69bJxM6oCuex35\",\n",
      "   \"pubkey\": \"031d285b664e0457bcbaa594f2bc72d5b778df17cd05f386d02b5e4979b2089ab1\",\n",
      "   \"pubkeyhash\": \"4ab4c42eb6eac253b9ce6e95e894bd49a8ea0c61\",\n",
      "   \"index\": 8\n",
      "  },\n",
      "  {\n",
      "   \"path\": \"m/44'/1'/0'/0/9\",\n",
      "   \"address\": \"n1RLAH5BrNrAY5qapXAsdDzBbv4YLNBoDW\",\n",
      "   \"xprv\": \"tprv8khhNkzGYHzz5X67Fj4DSf21GqLeJ2Q8nb7iK9EgMXBUYJaPgFruThgRPToXrJaDrz81GAqfAVGd8LK2SxDz9E2SHyE24yrRmXWuexoiyPz\",\n",
      "   \"xpub\": \"tpubDHPjXB2Wgfgexz7u9Nior4g7qrraTMb3MtiVbfGymnysNnqAJegVeCJHZdYKGX6bVhY8TqthvxWB6FbCf68Lr5pNiYTNHxRN7FNTFkf7wQ5\",\n",
      "   \"privkey\": \"cNNRBTeAW9gdhyL3tJN9ntAqi3mzzprxnPhgM8Xdm7qbiFW6hZQL\",\n",
      "   \"pubkey\": \"03871a4b3b49eafe6b16dc8b202ab272bebf146e222e6d9e80360266af5207f1a4\",\n",
      "   \"pubkeyhash\": \"da5245cd455fc1cf47410e72a9cebd1ba10d8e6f\",\n",
      "   \"index\": 9\n",
      "  }\n",
      " ],\n",
      " \"btc\": [\n",
      "  {\n",
      "   \"path\": \"m/44'/0'/0'/0/0\",\n",
      "   \"address\": \"1Hk26uv3aSo2WmKNPbeUGjNWPFDBLU2waW\",\n",
      "   \"xprv\": \"xprvA4EtnVRNTKMCodewrh6ipRZg96w7tyJMntxXmtPitFkMn7Dwe6BRfeC2bnL8DRs96stL1Kn752eZJqfFX1Fs25uaRxnUSSShU91qzeg5gWK\",\n",
      "   \"xpub\": \"xpub6HEFBzxGHguW27jQxidjBZWQh8mcJS2DA7t8aGoLSbHLeuZ6BdVgDSWWT5kbpKZxGjjA8qDfgYCyKgBeau5Qp48c5KC9dTaYjWd3jLfF8MG\",\n",
      "   \"privkey\": \"KzQ3o74J1R3MFuzvRNQWjckRz3AYZHgggJRbs3P7TH1ZoXJqKety\",\n",
      "   \"pubkey\": \"0399c9a8f6933934bfe811fc524c0e8684f971819398a0581f20ddf6371db0bb18\",\n",
      "   \"pubkeyhash\": \"b7a4d19972d97725ebe1d980ac875f4b41322ec5\",\n",
      "   \"index\": 0\n",
      "  },\n",
      "  {\n",
      "   \"path\": \"m/44'/0'/0'/0/1\",\n",
      "   \"address\": \"16LsmsW5nshaMWz4XXE9qZjE1HHEEF61Ma\",\n",
      "   \"xprv\": \"xprvA4EtnVRNTKMCq217SWBa6NsqSVyLTWUXtfzvAS59aMAE7oDrH6mcU6PKk5eQp6CHmMWRdX1d3JWWhbsHgdCzXa2x1aq2Fma1CDXCrpCbKzi\",\n",
      "   \"xpub\": \"xpub6HEFBzxGHguW3W5aYXiaTWpZzXopryCPFtvWxpUm8ghCzbYzpe5s1thobMiag5eAqA5LguGdtcoLEsJjFfyBpTV1kzXMa7aBXzCHwFfrRWH\",\n",
      "   \"privkey\": \"L3PRGxRUzyYGDEnWsdtyunpa5DCfYcgKfBSCCXGEHofUyxYj7zc6\",\n",
      "   \"pubkey\": \"03412c487c7a81706519d3236215f717b9134a39e0447e1a70de08fd65d83ab7e1\",\n",
      "   \"pubkeyhash\": \"3a9aea7796dbbce5a965d1fa4a7cf01cec335e7d\",\n",
      "   \"index\": 1\n",
      "  },\n",
      "  {\n",
      "   \"path\": \"m/44'/0'/0'/0/2\",\n",
      "   \"address\": \"1NdkcejAbVQToA8Zc9mhevqxTwYp1oreey\",\n",
      "   \"xprv\": \"xprvA4EtnVRNTKMCsTVZJBFzMJgp4eP9hSvkPVsr6JuNRVFiNAkxFw4YcbGDrQCWxhEHHmG8WUDrGoA4r1u8CoNH13CKh8QpiLHkP5cFJkBSCh9\",\n",
      "   \"xpub\": \"xpub6HEFBzxGHguW5wa2QCnziSdYcgDe6uebkioSthJyypnhEy66oUNoAPahhgrjQneoKs5dcLRXbUMQoZy9vbuo7wcZqbifZHoiSqSubuHtZrg\",\n",
      "   \"privkey\": \"KwuLeHZMNR4D9D4EHBTT2v3B3imvZdcv3tK3WJ8Ju4cSBBuU9XvA\",\n",
      "   \"pubkey\": \"02ead7d72915461c3a194b3a48c5af29caf1a570057b635bba031541dedd498521\",\n",
      "   \"pubkeyhash\": \"ed4e0615dce5ef76eae4b45b1be3dcb898a85c0e\",\n",
      "   \"index\": 2\n",
      "  },\n",
      "  {\n",
      "   \"path\": \"m/44'/0'/0'/0/3\",\n",
      "   \"address\": \"17LvJvKRxuSK9q2Lb78yBZbY1ZEj1e2T1U\",\n",
      "   \"xprv\": \"xprvA4EtnVRNTKMCvpfJyrtErmncC2H2YiLAViyoZTb4nugvqjsCYUj5dhk83Bz3cHsjz1yy71FCVePCSHxoadvskuGkwCFUknpvc9pvdf3sBmu\",\n",
      "   \"xpub\": \"xpub6HEFBzxGHguW9Jjn5tRFDujLk47WxB41rwuQMqzgMFDuiYCM623LBW4btTe9tiDvjEBzoPaUjznvXoToXtSU5FoyK3pdEiJJJmfQi6Bx3n9\",\n",
      "   \"privkey\": \"Kx6BfpMFnARooY8JaQanofMsNJGHEUQCZuwdFoi6k4GvpGWSnE4U\",\n",
      "   \"pubkey\": \"026c7c1e179aa4e3cc0afca79ce4a0a44a5b9f75782703cd10fdca429af85da50a\",\n",
      "   \"pubkeyhash\": \"45952875f00f0e5b285038b66b0a7cdb592ba617\",\n",
      "   \"index\": 3\n",
      "  },\n",
      "  {\n",
      "   \"path\": \"m/44'/0'/0'/0/4\",\n",
      "   \"address\": \"1KuqqdcnqX35KtvGKjGZXxfY7wKLBres1r\",\n",
      "   \"xprv\": \"xprvA4EtnVRNTKMCyRQwptcF9ydgNzL7MoRmXvsAWCVEJLYHqwYvoWPyYfyBicX7eKRXwDQye8HGTJ5UZYFnTnxZkyUtcZgSdu9a1CvxuEQxzjJ\",\n",
      "   \"xpub\": \"xpub6HEFBzxGHguWBuVQvv9FX7aQw2AbmG9cu9nmJatqrg5Gijt5M3iE6UHfZrT4JHq9rPZmqmvDBLm6E84AC2fJUTBPnf1tgLjxWvwR3WotQWe\",\n",
      "   \"privkey\": \"L34tGc4aX9BsKCJZh9G7fGnxtKDrxzhenNkJnrcWrnRvzhDAkEvm\",\n",
      "   \"pubkey\": \"021d905a08653dd5c76ac116452a166d525ed0ddedc94651d6d43ab6b0e7affda5\",\n",
      "   \"pubkeyhash\": \"cf70a99499a5f5de07db7637be3144559d151a12\",\n",
      "   \"index\": 4\n",
      "  },\n",
      "  {\n",
      "   \"path\": \"m/44'/0'/0'/0/5\",\n",
      "   \"address\": \"15Vn3hj57mwyHaF8C2F5SQJox6MGvVAdWD\",\n",
      "   \"xprv\": \"xprvA4EtnVRNTKMD1TQfTYcowipgAFFwKKUbC3UT6UMbUFyF6spRFNZqZKrn33hSrMcWpov91bC4hRtW58VfhKfuzELLbcksBSdHwjMMbfomsaJ\",\n",
      "   \"xpub\": \"xpub6HEFBzxGHguWDwV8Za9pJrmQiH6RinCSZGQ3trmD2bWDyg9Znut678BFtJpBN73GNKLFCtx4FJFvU2XN6Hp2gewboGK5aAWoW6t2m7j446U\",\n",
      "   \"privkey\": \"L4A1WN5n8PZVanayedhwNGVm4QKdYPRBr6uBRzMdryC4313YEAHh\",\n",
      "   \"pubkey\": \"02da3c39d31cd5f9edbd43ddc93374951cd4361922359af593d5ef4104950469ff\",\n",
      "   \"pubkeyhash\": \"3151c0c8cdcf0cfe018dc519f6f0d40558fc8629\",\n",
      "   \"index\": 5\n",
      "  },\n",
      "  {\n",
      "   \"path\": \"m/44'/0'/0'/0/6\",\n",
      "   \"address\": \"1JQfYaHkXRPq43zsvy4duZrfgmdAEX6YxN\",\n",
      "   \"xprv\": \"xprvA4EtnVRNTKMD4Q72jCnjnoMwRPNKEkNuSF87bUr2vTY9ZFfV1JnkEZV8eaYwDggvXGk9KgTdNMvwD1jGEn9jUFtMoGgszyjft2TFTgLupv6\",\n",
      "   \"xpub\": \"xpub6HEFBzxGHguWGtBVqEKk9wJfyRCoeD6koU3iPsFeUo58S3zdYr6znMocVrB3KhqTJkduLtx8YuVSCijcQWM6dVPZaeaoT1BjHNJMiyyrBpb\",\n",
      "   \"privkey\": \"KzjwjRRSjc3o1m2SrAs4mCRFwtLYWQnKoPuEN1AvNgCC9fxLKvzR\",\n",
      "   \"pubkey\": \"02b709501ca01dfae7c52d0c157bbbbc0a74885061123e839e26872548f23d24cc\",\n",
      "   \"pubkeyhash\": \"bef3e173b9f1f283698b5dde9aad767af899bd9b\",\n",
      "   \"index\": 6\n",
      "  },\n",
      "  {\n",
      "   \"path\": \"m/44'/0'/0'/0/7\",\n",
      "   \"address\": \"18Qhuewi1sSW9ERmT4hE7ohoQu1uo2zW73\",\n",
      "   \"xprv\": \"xprvA4EtnVRNTKMD8FTebUYZ1biLb6X9Ntp5f3A3jDvyCffVG7kZem2u1cjCQunyUUtxnkoHBgF1Ro3XNhgq3FSsv9k6hWbSKcw6zRHMsH2YR3R\",\n",
      "   \"xpub\": \"xpub6HEFBzxGHguWLjY7hW5ZNjf598MdnMXw2G5eXcLam1CU8v5iCJM9ZR3gGDZQ39os63xouNjZFat47M2sVq9JHbrJGp3NN4Hy3yK35dQgTVV\",\n",
      "   \"privkey\": \"KyXQmWWuTb5D6U3pFhbdLHAjPkiKZFdonQyYgnS38exJazzphsaK\",\n",
      "   \"pubkey\": \"03ad07ea8e4ba4011b28c81910b5ba864c9da838b3da6612eb22c52b12786bafef\",\n",
      "   \"pubkeyhash\": \"51449882c149612f324c242ada5711f627be3e17\",\n",
      "   \"index\": 7\n",
      "  },\n",
      "  {\n",
      "   \"path\": \"m/44'/0'/0'/0/8\",\n",
      "   \"address\": \"1PV1pCTaqUdgmvrZjZt7UrrnrBLbxxWj5Y\",\n",
      "   \"xprv\": \"xprvA4EtnVRNTKMD9c6prYahs8pAZF5hS3dhXkR3yCdGgS7joujZqkcy46dwhKzdwVKMU5CWf5Fujoqt58cKdiZzYJoz3CZ8R4QQZBukBRrtw7C\",\n",
      "   \"xpub\": \"xpub6HEFBzxGHguWN6BHxa7iEGku7GvBqWMYtyLemb2tEmeigi4iPHwDbtxRYb93fo4yfmLM2pXGTFxMK8tL8BBZwMpkfvYuShfCgQDDwra2RMz\",\n",
      "   \"privkey\": \"KwPzXx9UcTTt12AWvdc4DKDuSpnbYY9uTMExpxrJuzcEDXzTmDgA\",\n",
      "   \"pubkey\": \"02145f751907e59be5380e61d5869368921b5721323b619f6f507db109cda8f4b2\",\n",
      "   \"pubkeyhash\": \"f69f17ece2859490c108233b88b8cf4375c6a5e5\",\n",
      "   \"index\": 8\n",
      "  },\n",
      "  {\n",
      "   \"path\": \"m/44'/0'/0'/0/9\",\n",
      "   \"address\": \"1PU6ZYmkbGWnFpaoT444uWg5HnUT66r3h5\",\n",
      "   \"xprv\": \"xprvA4EtnVRNTKMDB2sjqoWbbYiFcno66TsaJvhoMV1m1Toh6GWbmb5pPXMGtGpAjU5gMP9wHtnYjWrdwkumFX5JB4rt8WgLeP76sZhmwnZd7Tp\",\n",
      "   \"xpub\": \"xpub6HEFBzxGHguWPWxCwq3bxgezApdaVvbRg9dQ9sRNZoLfy4qkK8Q4wKfkjWbLLH6cgkKQtQm2JsrNRAcABJKM5Q93QB2Tb8CUDM1HDEc73ac\",\n",
      "   \"privkey\": \"L2mSAuoE98WUpzHYhe7DAZdYDTfM4mnVpHg3TgGYA4BkpqgqS2xu\",\n",
      "   \"pubkey\": \"0200a87c497f8574ba60e0e875ba4ddd9adfe4e1919d628a51c7008630c5ce97ca\",\n",
      "   \"pubkeyhash\": \"f672a3f3f5c7f83f569986e5ec962c638ac0a466\",\n",
      "   \"index\": 9\n",
      "  }\n",
      " ],\n",
      " \"eth\": [\n",
      "  {\n",
      "   \"path\": \"m/44'/60'/0'/0/0\",\n",
      "   \"address\": \"0x02194a55DDA1B029F70220D53f099F38c629ab36\",\n",
      "   \"xprv\": \"xprvA2UAbkzcn2ntbeUWWeryfF3uDhgNm4dauGWnvnDix6CsvCzQuvLXjSRM7JTtTTWK9sX95nFVJwYhVGxXqPToYqhz27ChLeVmsCQQXUKHxdM\",\n",
      "   \"xpub\": \"xpub6FTX1GXWcQMBp8YycgPz2NzdmjWsAXMSGVSPjAdLWRjro1KZTTenHEjpxbBjGGK7wisPZe4htBommydMu8aPzi3Y94xHEdcN3ANiCP23RiY\",\n",
      "   \"privkey\": \"0xd36d0f9ff2f6dc80208cd19e0b7d939f11bd1a63d10c38cdc1c58f4dbbc95edc\",\n",
      "   \"pubkey\": \"03b21e2e1bc0b74c298d113c5c305c80cc76e67c4ff29e9b31028ea17328f8bba8\",\n",
      "   \"pubkeyhash\": \"a85e006b705f905c3e0e82485a33bf5bae8da52e\",\n",
      "   \"index\": 0\n",
      "  },\n",
      "  {\n",
      "   \"path\": \"m/44'/60'/0'/0/1\",\n",
      "   \"address\": \"0x3dFb64A5AdAe2aDece2E252FE5E889d61Ef75122\",\n",
      "   \"xprv\": \"xprvA2UAbkzcn2ntezNrVAWRNF7yPRSuWDGEu7CdrwoNhYEjuJdeqhFC9zpZ9Uomp4Tuzf47cQ661EzPLErPP9nSvAHoboLqYTTpNd1xfeFGuUP\",\n",
      "   \"xpub\": \"xpub6FTX1GXWcQMBsUTKbC3RjP4hwTHPufz6GL8EfLCzFsmin6xoPEZSho92znBTHFATi3RFHmhJLpwwR7P9KXcN9f4jAs4YUHRkkyg7spW5kZe\",\n",
      "   \"privkey\": \"0x81b180541f1ae73a48976095a58a342611fcedac9c00758510c0f3c0c63e5710\",\n",
      "   \"pubkey\": \"03b64da52e7b23d110002752118ecc97052e6637d916794bef1eaac7bba0a54d3b\",\n",
      "   \"pubkeyhash\": \"5d352e57cab65ca61793104f70e4b0f4543527aa\",\n",
      "   \"index\": 1\n",
      "  },\n",
      "  {\n",
      "   \"path\": \"m/44'/60'/0'/0/2\",\n",
      "   \"address\": \"0xdeA9cE1d814f6dAaEe900D864B7f1974Ab2f0A44\",\n",
      "   \"xprv\": \"xprvA2UAbkzcn2ntgZeXYbMHsrr7QnjdtoitxZDqhxkueuRiE6Eb1xqHUjriskG2mrFftCL29AUAj85B22PtvpSqspSWzLp9tzAQ9CsVKiW84m6\",\n",
      "   \"xpub\": \"xpub6FTX1GXWcQMBu3izectJEznqxpa8JGSkKn9SWMAXDExh6tZjZW9Y2YBCj3zfvXnQGoSrYoft3EGeXcURDCp9Mm9Rg4S3hug3GW2UeTFcFsQ\",\n",
      "   \"privkey\": \"0x815b3bc011096f513a633ed35581e057423680405381db490576d48b95e1ab15\",\n",
      "   \"pubkey\": \"03e58f0070091a989dbede3de95458ddd960381f1846f4414dcc896edc04907735\",\n",
      "   \"pubkeyhash\": \"f1ba997dd9013d7140ac9367cf66ed197c1413b6\",\n",
      "   \"index\": 2\n",
      "  },\n",
      "  {\n",
      "   \"path\": \"m/44'/60'/0'/0/3\",\n",
      "   \"address\": \"0x887e169499831bd8d79b6e73634e087F0F34b4DA\",\n",
      "   \"xprv\": \"xprvA2UAbkzcn2ntkrK1y796vMM7ppXBp95pnnFGTYDLJg9zvtRv8ivaxt6uyLAEmuG5wDVK9JMyAgo1tmxQCFFNuaTrLr38Dj3ZKrEoNkvRUDw\",\n",
      "   \"xpub\": \"xpub6FTX1GXWcQMByLPV58g7HVHrNrMgDbogA1AsFvcws1gyogm4gGEqWgRPpd2cYuDpXkYxPiWDn4nuLif8GEC1jndePA5bxi6m5e95MfreQEB\",\n",
      "   \"privkey\": \"0xd13b938e2e2b19d9b04c3cf298d66ebb5ff782c8a061482e63c436614baaebfb\",\n",
      "   \"pubkey\": \"03c34d4d29b4720ea14be16d468f80d1d523c881e890442db42603462ebebcf0d2\",\n",
      "   \"pubkeyhash\": \"a16b254af2185243c7db9ec07a33d03ad55bef43\",\n",
      "   \"index\": 3\n",
      "  },\n",
      "  {\n",
      "   \"path\": \"m/44'/60'/0'/0/4\",\n",
      "   \"address\": \"0x92bfF4346bE529d13D7552841bE8274AA6de0334\",\n",
      "   \"xprv\": \"xprvA2UAbkzcn2ntoCqR838KZ2aN7kqXoR2CvpMvdHW3tXdmvsSHLfEMYjNyEZNXyRE21UAwqx8RWracjjFDhcDASvQS7uZxbgXANNbZqzPWeP4\",\n",
      "   \"xpub\": \"xpub6FTX1GXWcQMC1gutE4fKvAX6fng2Csk4J3HXRfufSsAkofmRtCYc6XhT5pMvfvJEBy88aK2DV1BYAru3gnAxM51focC19znKj4XbSLGeitr\",\n",
      "   \"privkey\": \"0x8cccd99353f7265b2c56a8f291ad48888780c646174ba70443b3e5383e31d3e0\",\n",
      "   \"pubkey\": \"0287685fc98950da23dc197c9243148add3893ea02252ef9d231648ff2c36451ca\",\n",
      "   \"pubkeyhash\": \"745f6b15c21efe94c519dcd5c5446fb61805d73f\",\n",
      "   \"index\": 4\n",
      "  },\n",
      "  {\n",
      "   \"path\": \"m/44'/60'/0'/0/5\",\n",
      "   \"address\": \"0x00ED5Ab2aBEF77cafC56B59eDBD76d841970621A\",\n",
      "   \"xprv\": \"xprvA2UAbkzcn2ntpYeukSu7hVbqcQELk7iRQdC6D1fKESuK29RsY2X4QknZ6M19tB7YGXLo9BBoGRDnvWhY5LeTboN4AdJFefDB1KZdXLGSR8Q\",\n",
      "   \"xpub\": \"xpub6FTX1GXWcQMC32jNrUS84dYaAS4q9aSGmr7h1Q4vnnSHtwm25ZqJxZ72wdup1WA95HJMHadbXQpCBccfRwpoDJpZxTr31vQcCRajqyPGkvF\",\n",
      "   \"privkey\": \"0x1b872d956b17f1223a0c87e5e33172fbfb8bc90ddcfb63d9f945730961ca913b\",\n",
      "   \"pubkey\": \"0312c753cef853567cdf8a83ce9259e754b9e99101fddfb1c89d36c909ac7ae5f5\",\n",
      "   \"pubkeyhash\": \"56a4c38fbc3df2116fb54bfdfb8072ce9dd1758d\",\n",
      "   \"index\": 5\n",
      "  },\n",
      "  {\n",
      "   \"path\": \"m/44'/60'/0'/0/6\",\n",
      "   \"address\": \"0x87859A12b24FF2F594453EE25a7dF9C177e3Ed1C\",\n",
      "   \"xprv\": \"xprvA2UAbkzcn2ntrsmxcn9Pqvd3oNXM2zRtiALEtksPRvTfp6ZCF1z8bkbvt12v92voFmBR12Dkkab1esoabRi2pXRci7A16Cbe6acFBqvytaM\",\n",
      "   \"xpub\": \"xpub6FTX1GXWcQMC5MrRiogQD4ZnMQMqST9k5PFqh9GzzFzegttLnZJP9YvQjGNLvKEYdrEKnNAncvcJQ6EkfevWuaNphzgPhgspim3xyg4t6n9\",\n",
      "   \"privkey\": \"0xab2df0604c61581d1be56df9a24c0cf79f4787121050bc620b22677aee9108e3\",\n",
      "   \"pubkey\": \"02d347eb6cda7f10a7e6ee9ead788bd801f256e6b0e89ef3baaefdd959e7f29dc3\",\n",
      "   \"pubkeyhash\": \"ed620e438674db87919d7d7375a5c4b9e3c33485\",\n",
      "   \"index\": 6\n",
      "  },\n",
      "  {\n",
      "   \"path\": \"m/44'/60'/0'/0/7\",\n",
      "   \"address\": \"0x9E8325Db54ADAF477A1A540Cd16Db5e17d2df344\",\n",
      "   \"xprv\": \"xprvA2UAbkzcn2ntvDuV1a4i5pxQDT7qPs3kGHchc4h1hURJ6UN3pxbZpBuoxyz3RCs3Lr7wypBAeWGjgK7SznGRKtfszBhm2D8edkoh572rKir\",\n",
      "   \"xpub\": \"xpub6FTX1GXWcQMC8hyx7bbiSxu8mUxKoKmbdWYJQT6dFoxGyGhCNVupMzEHpGAZVmiSJg3kULpPMu4qPiwY7PfzX6BE7adotzTzeUxP2qvDPk5\",\n",
      "   \"privkey\": \"0x058737e82532468af851c9df89ed8a1ed706da199160b10b52de33f4ea689bbe\",\n",
      "   \"pubkey\": \"029d18fb9049f11d618ac7fcbe2872c98751ba9c3d39702b1a0698071c1ef61cd1\",\n",
      "   \"pubkeyhash\": \"aa763c3799ccf1ff632ae5a8b5ab3e9044ce4c13\",\n",
      "   \"index\": 7\n",
      "  },\n",
      "  {\n",
      "   \"path\": \"m/44'/60'/0'/0/8\",\n",
      "   \"address\": \"0x50227980D7927f79Fd6B86B552e283cd3d9aF5d8\",\n",
      "   \"xprv\": \"xprvA2UAbkzcn2ntyYU3isnzfBE1qPPVAEcfK1rwZmLFdxLQkDqK1CnUcHcN3ty8iTJMkaDGdw2FWQ9bvgxR3fPa2j7vSkUpm9wMyczr7QtNTfJ\",\n",
      "   \"xpub\": \"xpub6FTX1GXWcQMCC2YWpuL12KAkPRDyZhLWgEnYN9jsCHsPd2ATYk6jA5vquAAAyd1GdtFknYsU2za63feuR8qFfXcMnz7iUYYwTRw9m5d5cMP\",\n",
      "   \"privkey\": \"0x89028d196546cf3cb70ff41d111cc476aa9d781b51bf767acbe54798cdee7dce\",\n",
      "   \"pubkey\": \"029e109bc9a21c9e3a7d5b0be39bb9b5e57896eb4162f93aba23059bfffd1c8d23\",\n",
      "   \"pubkeyhash\": \"2224acc96f33a026b0dbed3192ae1fb15965f9ab\",\n",
      "   \"index\": 8\n",
      "  },\n",
      "  {\n",
      "   \"path\": \"m/44'/60'/0'/0/9\",\n",
      "   \"address\": \"0x013b6bB159611f6CD3c54CFB28c1569084133C55\",\n",
      "   \"xprv\": \"xprvA2UAbkzcn2nu1EKomvYUzaz8dmtsgKuFM5cJbC3LytMq9XvUG5XHcut99XTHTm578JeQsW4bwzJ7XNWQ4XUdvk6jw3rxU116RLmLGc9Xmsb\",\n",
      "   \"xpub\": \"xpub6FTX1GXWcQMCDiQGsx5VMivsBojN5nd6iJXuPaSxYDtp2LFcocqYAiCczppdcnWSDvMN1thZLCmSP2ALqJmsGe1Jrq3H7S12CPRXBYXavNm\",\n",
      "   \"privkey\": \"0x63e2b9580e92afc98ab6438e808633825744b585839634745b51c75471a29e12\",\n",
      "   \"pubkey\": \"0397bd4f9c83811fe7bb91e27273c8f5941ef5e9ccf8812939c6263e0668182b01\",\n",
      "   \"pubkeyhash\": \"4f4528570d772eeed09012169d746dd934cb31df\",\n",
      "   \"index\": 9\n",
      "  }\n",
      " ]\n",
      "}\n"
     ]
    }
   ],
   "source": [
    "print(\"eth_PrivateKey:\",json.dumps(eth_PrivateKey, indent=1))\n",
    "print(\"btc_PrivateKey:\",json.dumps(btc_PrivateKey, indent=1))\n",
    "print(json.dumps(keys, indent=1))"
   ]
  },
  {
   "cell_type": "code",
   "execution_count": 28,
   "id": "5d0459fa-003d-461a-aa14-f89606478d76",
   "metadata": {},
   "outputs": [
    {
     "name": "stdout",
     "output_type": "stream",
     "text": [
      "eth_acc =  <eth_account.signers.local.LocalAccount object at 0x00000261D65BF250>\n",
      "btc_acc= <PrivateKeyTestnet: mkwqRYLAfeoMJnnb5A9WegujdggyBeEPGD>\n"
     ]
    }
   ],
   "source": [
    "def priv_key_to_account(coin, priv_key):\n",
    "\n",
    "    if coin == ETH:\n",
    "        return Account.privateKeyToAccount(priv_key)\n",
    "    if coin == BTCTEST:\n",
    "        return PrivateKeyTestnet(priv_key)\n",
    "    \n",
    "eth_acc = priv_key_to_account(ETH,eth_PrivateKey)\n",
    "btc_acc = priv_key_to_account(BTCTEST,btc_PrivateKey)\n",
    "\n",
    "print(\"eth_acc = \",eth_acc)\n",
    "print(\"btc_acc=\", btc_acc)"
   ]
  },
  {
   "cell_type": "code",
   "execution_count": 9,
   "id": "29af7b13-441c-48c0-8a0f-50033dca3640",
   "metadata": {},
   "outputs": [],
   "source": [
    "def create_trx(coin, account, recipient, amount):\n",
    "    \n",
    "    if coin ==ETH:\n",
    "        gasEstimate = w3.eth.estimateGas(\n",
    "            {\"from\": account.address, \"to\": recipient, \"value\": amount}\n",
    "        )\n",
    "        trx_data = {\n",
    "            \"to\": recipient,\n",
    "            \"from\": account.address,\n",
    "            \"value\": amount,\n",
    "            \"gasPrice\": w3.eth.gasPrice,\n",
    "            \"gas\": gasEstimate,\n",
    "            \"nonce\": w3.eth.getTransactionCount(account.address)\n",
    "        }\n",
    "        return trx_data\n",
    "\n",
    "    if coin == BTCTEST:\n",
    "        return PrivateKeyTestnet.prepare_transaction(account.address, [(recipient, amount, BTC)])  \n"
   ]
  },
  {
   "cell_type": "code",
   "execution_count": 10,
   "id": "c452c9a6-d074-4024-8e7c-7e41237ade43",
   "metadata": {},
   "outputs": [],
   "source": [
    "def send_trx(coin, account, recipient, amount):\n",
    "    \n",
    "    if coin == \"eth\": \n",
    "        trx_eth = create_trx(coin,account, recipient, amount)\n",
    "        sign = account.signTransaction(trx_eth)\n",
    "        result = w3.eth.sendRawTransaction(sign.rawTransaction)\n",
    "        print(result.hex())\n",
    "        return result.hex()\n",
    "    else:\n",
    "        trx_btctest= create_trx(coin,account,recipient,amount)\n",
    "        sign_trx_btctest = account.sign_transaction(trx_btctest)\n",
    "        from bit.network import NetworkAPI\n",
    "        NetworkAPI.broadcast_tx_testnet(sign_trx_btctest)       \n",
    "        return sign_trx_btctest"
   ]
  },
  {
   "cell_type": "code",
   "execution_count": 11,
   "id": "bc137288-7b66-4138-9b00-471fcc381a13",
   "metadata": {},
   "outputs": [
    {
     "data": {
      "text/plain": [
       "'{\"unspents\":[{\"amount\":1000000,\"confirmations\":15,\"script\":\"76a9143b8d4adb98c1922686a0b9b3f10ee0f1ef7a2eb888ac\",\"txid\":\"872cd6137d5a2ac92c1121cfb372fec5605628f324da2504e1408da93647c5dc\",\"txindex\":0,\"type\":\"p2pkh\",\"vsize\":148,\"segwit\":false,\"sequence\":4294967295},{\"amount\":210315,\"confirmations\":15,\"script\":\"76a9143b8d4adb98c1922686a0b9b3f10ee0f1ef7a2eb888ac\",\"txid\":\"872cd6137d5a2ac92c1121cfb372fec5605628f324da2504e1408da93647c5dc\",\"txindex\":1,\"type\":\"p2pkh\",\"vsize\":148,\"segwit\":false,\"sequence\":4294967295}],\"outputs\":[[\"mkwqRYLAfeoMJnnb5A9WegujdggyBeEPGD\",1000000],[\"mkwqRYLAfeoMJnnb5A9WegujdggyBeEPGD\",172167]]}'"
      ]
     },
     "execution_count": 11,
     "metadata": {},
     "output_type": "execute_result"
    }
   ],
   "source": [
    "create_trx(BTCTEST,btc_acc,\"mkwqRYLAfeoMJnnb5A9WegujdggyBeEPGD\", 0.01)"
   ]
  },
  {
   "cell_type": "code",
   "execution_count": 12,
   "id": "b754ab04-3b79-4f0a-98d5-11fdad1a1a25",
   "metadata": {},
   "outputs": [
    {
     "data": {
      "text/plain": [
       "'0100000002dcc54736a98d40e10425da24f3285660c5fe72b3cf21112cc92a5a7d13d62c87000000006a47304402201e429edb6e797326123f47fda4ad691279f024780b63f6e10b2f9f890d4eb4ed02200a3fd9978509d1e01f06a5e81f6e5e7f2422d238f368ff4897d270cfa5e7330f012102dcb7a11c7172966e58679c0cb207bfb95d119cc55f9fb318d0a522aaff5b9577ffffffffdcc54736a98d40e10425da24f3285660c5fe72b3cf21112cc92a5a7d13d62c87010000006b483045022100f7b242ec3c45c2fa7c403783d4d3abb7051d3606a5850bc99b094631e21287a90220382dcce2767b8ef0f3f9e04c28d41f53c9e71b6f5f64905840855ee92f4e6904012102dcb7a11c7172966e58679c0cb207bfb95d119cc55f9fb318d0a522aaff5b9577ffffffff0240420f00000000001976a9143b8d4adb98c1922686a0b9b3f10ee0f1ef7a2eb888ac87a00200000000001976a9143b8d4adb98c1922686a0b9b3f10ee0f1ef7a2eb888ac00000000'"
      ]
     },
     "execution_count": 12,
     "metadata": {},
     "output_type": "execute_result"
    }
   ],
   "source": [
    "send_trx(BTCTEST,btc_acc,\"mkwqRYLAfeoMJnnb5A9WegujdggyBeEPGD\", 0.01)"
   ]
  },
  {
   "cell_type": "code",
   "execution_count": null,
   "id": "46dc18fe-c4f5-453b-bfcb-a43f78eb1c78",
   "metadata": {},
   "outputs": [],
   "source": []
  },
  {
   "cell_type": "code",
   "execution_count": 13,
   "id": "51580fae-70ea-496a-bd90-0e73a578fc33",
   "metadata": {},
   "outputs": [],
   "source": [
    "##ETH"
   ]
  },
  {
   "cell_type": "code",
   "execution_count": 14,
   "id": "9692d4bc-d934-46f3-8b61-b016225e78bc",
   "metadata": {},
   "outputs": [],
   "source": [
    "from web3.middleware import geth_poa_middleware\n",
    "\n",
    "w3.middleware_onion.inject(geth_poa_middleware, layer=0)"
   ]
  },
  {
   "cell_type": "code",
   "execution_count": 15,
   "id": "d6f8dc5f-af25-4166-8cd0-e5f17b14bdec",
   "metadata": {},
   "outputs": [],
   "source": [
    "from web3 import Web3, HTTPProvider"
   ]
  },
  {
   "cell_type": "code",
   "execution_count": 16,
   "id": "0041cf67-0c15-4bb2-ac8d-9474379f77c3",
   "metadata": {},
   "outputs": [],
   "source": [
    "w3 = Web3(Web3.HTTPProvider(\"http://127.0.0.1:8545\"))"
   ]
  },
  {
   "cell_type": "code",
   "execution_count": 17,
   "id": "037b2a04-c10a-4304-93a1-ec3310ee8472",
   "metadata": {},
   "outputs": [
    {
     "data": {
      "text/plain": [
       "True"
      ]
     },
     "execution_count": 17,
     "metadata": {},
     "output_type": "execute_result"
    }
   ],
   "source": [
    "w3.isConnected()"
   ]
  },
  {
   "cell_type": "code",
   "execution_count": 30,
   "id": "9e89e840-f4a6-41c8-9c11-b1c2e8663617",
   "metadata": {},
   "outputs": [
    {
     "data": {
      "text/plain": [
       "100000000000000000000"
      ]
     },
     "execution_count": 30,
     "metadata": {},
     "output_type": "execute_result"
    }
   ],
   "source": [
    "w3.eth.getBalance(\"0xaA9FB096fE1B2BdD8e96AB6670fcFE447f5BeC83\")\n"
   ]
  },
  {
   "cell_type": "code",
   "execution_count": 19,
   "id": "a71a876d-a312-49ed-a184-ebe60309d88f",
   "metadata": {},
   "outputs": [
    {
     "data": {
      "text/plain": [
       "{'to': '0xA0A0173f7DdFee91df5C052319F20Aad81312a6B',\n",
       " 'from': '0x02194a55DDA1B029F70220D53f099F38c629ab36',\n",
       " 'value': 1000,\n",
       " 'gasPrice': 20000000000,\n",
       " 'gas': 21000,\n",
       " 'nonce': 0}"
      ]
     },
     "execution_count": 19,
     "metadata": {},
     "output_type": "execute_result"
    }
   ],
   "source": [
    "create_trx(ETH,eth_acc,\"0xA0A0173f7DdFee91df5C052319F20Aad81312a6B\", 1000)"
   ]
  },
  {
   "cell_type": "code",
   "execution_count": 20,
   "id": "cca06198-30af-4811-9baf-14b89abc9178",
   "metadata": {},
   "outputs": [
    {
     "ename": "ValueError",
     "evalue": "{'message': \"sender doesn't have enough funds to send tx. The upfront cost is: 420000000001000 and the sender's account only has: 0\", 'code': -32000, 'data': {'stack': \"Error: sender doesn't have enough funds to send tx. The upfront cost is: 420000000001000 and the sender's account only has: 0\\n    at VM.<anonymous> (C:\\\\Program Files\\\\WindowsApps\\\\GanacheUI_2.5.4.0_x64__5dg5pnz03psnj\\\\app\\\\resources\\\\static\\\\node\\\\node_modules\\\\ganache-core\\\\node_modules\\\\ethereumjs-vm\\\\lib\\\\runTx.ts:114:11)\\n    at step (C:\\\\Program Files\\\\WindowsApps\\\\GanacheUI_2.5.4.0_x64__5dg5pnz03psnj\\\\app\\\\resources\\\\static\\\\node\\\\node_modules\\\\ganache-core\\\\node_modules\\\\ethereumjs-vm\\\\dist\\\\runTx.js:33:23)\\n    at Object.next (C:\\\\Program Files\\\\WindowsApps\\\\GanacheUI_2.5.4.0_x64__5dg5pnz03psnj\\\\app\\\\resources\\\\static\\\\node\\\\node_modules\\\\ganache-core\\\\node_modules\\\\ethereumjs-vm\\\\dist\\\\runTx.js:14:53)\\n    at fulfilled (C:\\\\Program Files\\\\WindowsApps\\\\GanacheUI_2.5.4.0_x64__5dg5pnz03psnj\\\\app\\\\resources\\\\static\\\\node\\\\node_modules\\\\ganache-core\\\\node_modules\\\\ethereumjs-vm\\\\dist\\\\runTx.js:5:58)\\n    at runMicrotasks (<anonymous>)\\n    at processTicksAndRejections (internal/process/task_queues.js:93:5)\", 'name': 'Error'}}",
     "output_type": "error",
     "traceback": [
      "\u001b[1;31m---------------------------------------------------------------------------\u001b[0m",
      "\u001b[1;31mValueError\u001b[0m                                Traceback (most recent call last)",
      "\u001b[1;32m<ipython-input-20-c8c2ddbac9d9>\u001b[0m in \u001b[0;36m<module>\u001b[1;34m\u001b[0m\n\u001b[1;32m----> 1\u001b[1;33m \u001b[0msend_trx\u001b[0m\u001b[1;33m(\u001b[0m\u001b[0mETH\u001b[0m\u001b[1;33m,\u001b[0m \u001b[0meth_acc\u001b[0m\u001b[1;33m,\u001b[0m\u001b[1;34m\"0xA0A0173f7DdFee91df5C052319F20Aad81312a6B\"\u001b[0m\u001b[1;33m,\u001b[0m \u001b[1;36m1000\u001b[0m\u001b[1;33m)\u001b[0m\u001b[1;33m\u001b[0m\u001b[1;33m\u001b[0m\u001b[0m\n\u001b[0m",
      "\u001b[1;32m<ipython-input-10-38d3cecde309>\u001b[0m in \u001b[0;36msend_trx\u001b[1;34m(coin, account, recipient, amount)\u001b[0m\n\u001b[0;32m      4\u001b[0m         \u001b[0mtrx_eth\u001b[0m \u001b[1;33m=\u001b[0m \u001b[0mcreate_trx\u001b[0m\u001b[1;33m(\u001b[0m\u001b[0mcoin\u001b[0m\u001b[1;33m,\u001b[0m\u001b[0maccount\u001b[0m\u001b[1;33m,\u001b[0m \u001b[0mrecipient\u001b[0m\u001b[1;33m,\u001b[0m \u001b[0mamount\u001b[0m\u001b[1;33m)\u001b[0m\u001b[1;33m\u001b[0m\u001b[1;33m\u001b[0m\u001b[0m\n\u001b[0;32m      5\u001b[0m         \u001b[0msign\u001b[0m \u001b[1;33m=\u001b[0m \u001b[0maccount\u001b[0m\u001b[1;33m.\u001b[0m\u001b[0msignTransaction\u001b[0m\u001b[1;33m(\u001b[0m\u001b[0mtrx_eth\u001b[0m\u001b[1;33m)\u001b[0m\u001b[1;33m\u001b[0m\u001b[1;33m\u001b[0m\u001b[0m\n\u001b[1;32m----> 6\u001b[1;33m         \u001b[0mresult\u001b[0m \u001b[1;33m=\u001b[0m \u001b[0mw3\u001b[0m\u001b[1;33m.\u001b[0m\u001b[0meth\u001b[0m\u001b[1;33m.\u001b[0m\u001b[0msendRawTransaction\u001b[0m\u001b[1;33m(\u001b[0m\u001b[0msign\u001b[0m\u001b[1;33m.\u001b[0m\u001b[0mrawTransaction\u001b[0m\u001b[1;33m)\u001b[0m\u001b[1;33m\u001b[0m\u001b[1;33m\u001b[0m\u001b[0m\n\u001b[0m\u001b[0;32m      7\u001b[0m         \u001b[0mprint\u001b[0m\u001b[1;33m(\u001b[0m\u001b[0mresult\u001b[0m\u001b[1;33m.\u001b[0m\u001b[0mhex\u001b[0m\u001b[1;33m(\u001b[0m\u001b[1;33m)\u001b[0m\u001b[1;33m)\u001b[0m\u001b[1;33m\u001b[0m\u001b[1;33m\u001b[0m\u001b[0m\n\u001b[0;32m      8\u001b[0m         \u001b[1;32mreturn\u001b[0m \u001b[0mresult\u001b[0m\u001b[1;33m.\u001b[0m\u001b[0mhex\u001b[0m\u001b[1;33m(\u001b[0m\u001b[1;33m)\u001b[0m\u001b[1;33m\u001b[0m\u001b[1;33m\u001b[0m\u001b[0m\n",
      "\u001b[1;32m~\\anaconda3\\lib\\site-packages\\web3\\eth.py\u001b[0m in \u001b[0;36msend_raw_transaction\u001b[1;34m(self, transaction)\u001b[0m\n\u001b[0;32m    696\u001b[0m \u001b[1;33m\u001b[0m\u001b[0m\n\u001b[0;32m    697\u001b[0m     \u001b[1;32mdef\u001b[0m \u001b[0msend_raw_transaction\u001b[0m\u001b[1;33m(\u001b[0m\u001b[0mself\u001b[0m\u001b[1;33m,\u001b[0m \u001b[0mtransaction\u001b[0m\u001b[1;33m:\u001b[0m \u001b[0mUnion\u001b[0m\u001b[1;33m[\u001b[0m\u001b[0mHexStr\u001b[0m\u001b[1;33m,\u001b[0m \u001b[0mbytes\u001b[0m\u001b[1;33m]\u001b[0m\u001b[1;33m)\u001b[0m \u001b[1;33m->\u001b[0m \u001b[0mHexBytes\u001b[0m\u001b[1;33m:\u001b[0m\u001b[1;33m\u001b[0m\u001b[1;33m\u001b[0m\u001b[0m\n\u001b[1;32m--> 698\u001b[1;33m         \u001b[1;32mreturn\u001b[0m \u001b[0mself\u001b[0m\u001b[1;33m.\u001b[0m\u001b[0m_send_raw_transaction\u001b[0m\u001b[1;33m(\u001b[0m\u001b[0mtransaction\u001b[0m\u001b[1;33m)\u001b[0m\u001b[1;33m\u001b[0m\u001b[1;33m\u001b[0m\u001b[0m\n\u001b[0m\u001b[0;32m    699\u001b[0m \u001b[1;33m\u001b[0m\u001b[0m\n\u001b[0;32m    700\u001b[0m     def sign_munger(\n",
      "\u001b[1;32m~\\anaconda3\\lib\\site-packages\\web3\\module.py\u001b[0m in \u001b[0;36mcaller\u001b[1;34m(*args, **kwargs)\u001b[0m\n\u001b[0;32m     55\u001b[0m             \u001b[1;32mreturn\u001b[0m \u001b[0mLogFilter\u001b[0m\u001b[1;33m(\u001b[0m\u001b[0meth_module\u001b[0m\u001b[1;33m=\u001b[0m\u001b[0mmodule\u001b[0m\u001b[1;33m,\u001b[0m \u001b[0mfilter_id\u001b[0m\u001b[1;33m=\u001b[0m\u001b[0merr\u001b[0m\u001b[1;33m.\u001b[0m\u001b[0mfilter_id\u001b[0m\u001b[1;33m)\u001b[0m\u001b[1;33m\u001b[0m\u001b[1;33m\u001b[0m\u001b[0m\n\u001b[0;32m     56\u001b[0m         \u001b[0mresult_formatters\u001b[0m\u001b[1;33m,\u001b[0m \u001b[0merror_formatters\u001b[0m\u001b[1;33m,\u001b[0m \u001b[0mnull_result_formatters\u001b[0m \u001b[1;33m=\u001b[0m \u001b[0mresponse_formatters\u001b[0m\u001b[1;33m\u001b[0m\u001b[1;33m\u001b[0m\u001b[0m\n\u001b[1;32m---> 57\u001b[1;33m         result = w3.manager.request_blocking(method_str,\n\u001b[0m\u001b[0;32m     58\u001b[0m                                              \u001b[0mparams\u001b[0m\u001b[1;33m,\u001b[0m\u001b[1;33m\u001b[0m\u001b[1;33m\u001b[0m\u001b[0m\n\u001b[0;32m     59\u001b[0m                                              \u001b[0merror_formatters\u001b[0m\u001b[1;33m,\u001b[0m\u001b[1;33m\u001b[0m\u001b[1;33m\u001b[0m\u001b[0m\n",
      "\u001b[1;32m~\\anaconda3\\lib\\site-packages\\web3\\manager.py\u001b[0m in \u001b[0;36mrequest_blocking\u001b[1;34m(self, method, params, error_formatters, null_result_formatters)\u001b[0m\n\u001b[0;32m    185\u001b[0m         \"\"\"\n\u001b[0;32m    186\u001b[0m         \u001b[0mresponse\u001b[0m \u001b[1;33m=\u001b[0m \u001b[0mself\u001b[0m\u001b[1;33m.\u001b[0m\u001b[0m_make_request\u001b[0m\u001b[1;33m(\u001b[0m\u001b[0mmethod\u001b[0m\u001b[1;33m,\u001b[0m \u001b[0mparams\u001b[0m\u001b[1;33m)\u001b[0m\u001b[1;33m\u001b[0m\u001b[1;33m\u001b[0m\u001b[0m\n\u001b[1;32m--> 187\u001b[1;33m         return self.formatted_response(response,\n\u001b[0m\u001b[0;32m    188\u001b[0m                                        \u001b[0mparams\u001b[0m\u001b[1;33m,\u001b[0m\u001b[1;33m\u001b[0m\u001b[1;33m\u001b[0m\u001b[0m\n\u001b[0;32m    189\u001b[0m                                        \u001b[0merror_formatters\u001b[0m\u001b[1;33m,\u001b[0m\u001b[1;33m\u001b[0m\u001b[1;33m\u001b[0m\u001b[0m\n",
      "\u001b[1;32m~\\anaconda3\\lib\\site-packages\\web3\\manager.py\u001b[0m in \u001b[0;36mformatted_response\u001b[1;34m(self, response, params, error_formatters, null_result_formatters)\u001b[0m\n\u001b[0;32m    166\u001b[0m         \u001b[1;32mif\u001b[0m \u001b[1;34m\"error\"\u001b[0m \u001b[1;32min\u001b[0m \u001b[0mresponse\u001b[0m\u001b[1;33m:\u001b[0m\u001b[1;33m\u001b[0m\u001b[1;33m\u001b[0m\u001b[0m\n\u001b[0;32m    167\u001b[0m             \u001b[0mapply_error_formatters\u001b[0m\u001b[1;33m(\u001b[0m\u001b[0merror_formatters\u001b[0m\u001b[1;33m,\u001b[0m \u001b[0mresponse\u001b[0m\u001b[1;33m)\u001b[0m\u001b[1;33m\u001b[0m\u001b[1;33m\u001b[0m\u001b[0m\n\u001b[1;32m--> 168\u001b[1;33m             \u001b[1;32mraise\u001b[0m \u001b[0mValueError\u001b[0m\u001b[1;33m(\u001b[0m\u001b[0mresponse\u001b[0m\u001b[1;33m[\u001b[0m\u001b[1;34m\"error\"\u001b[0m\u001b[1;33m]\u001b[0m\u001b[1;33m)\u001b[0m\u001b[1;33m\u001b[0m\u001b[1;33m\u001b[0m\u001b[0m\n\u001b[0m\u001b[0;32m    169\u001b[0m         \u001b[1;32melif\u001b[0m \u001b[0mresponse\u001b[0m\u001b[1;33m[\u001b[0m\u001b[1;34m'result'\u001b[0m\u001b[1;33m]\u001b[0m \u001b[1;32min\u001b[0m \u001b[0mNULL_RESPONSES\u001b[0m\u001b[1;33m:\u001b[0m\u001b[1;33m\u001b[0m\u001b[1;33m\u001b[0m\u001b[0m\n\u001b[0;32m    170\u001b[0m             \u001b[1;31m# null_result_formatters raise either a BlockNotFound\u001b[0m\u001b[1;33m\u001b[0m\u001b[1;33m\u001b[0m\u001b[1;33m\u001b[0m\u001b[0m\n",
      "\u001b[1;31mValueError\u001b[0m: {'message': \"sender doesn't have enough funds to send tx. The upfront cost is: 420000000001000 and the sender's account only has: 0\", 'code': -32000, 'data': {'stack': \"Error: sender doesn't have enough funds to send tx. The upfront cost is: 420000000001000 and the sender's account only has: 0\\n    at VM.<anonymous> (C:\\\\Program Files\\\\WindowsApps\\\\GanacheUI_2.5.4.0_x64__5dg5pnz03psnj\\\\app\\\\resources\\\\static\\\\node\\\\node_modules\\\\ganache-core\\\\node_modules\\\\ethereumjs-vm\\\\lib\\\\runTx.ts:114:11)\\n    at step (C:\\\\Program Files\\\\WindowsApps\\\\GanacheUI_2.5.4.0_x64__5dg5pnz03psnj\\\\app\\\\resources\\\\static\\\\node\\\\node_modules\\\\ganache-core\\\\node_modules\\\\ethereumjs-vm\\\\dist\\\\runTx.js:33:23)\\n    at Object.next (C:\\\\Program Files\\\\WindowsApps\\\\GanacheUI_2.5.4.0_x64__5dg5pnz03psnj\\\\app\\\\resources\\\\static\\\\node\\\\node_modules\\\\ganache-core\\\\node_modules\\\\ethereumjs-vm\\\\dist\\\\runTx.js:14:53)\\n    at fulfilled (C:\\\\Program Files\\\\WindowsApps\\\\GanacheUI_2.5.4.0_x64__5dg5pnz03psnj\\\\app\\\\resources\\\\static\\\\node\\\\node_modules\\\\ganache-core\\\\node_modules\\\\ethereumjs-vm\\\\dist\\\\runTx.js:5:58)\\n    at runMicrotasks (<anonymous>)\\n    at processTicksAndRejections (internal/process/task_queues.js:93:5)\", 'name': 'Error'}}"
     ]
    }
   ],
   "source": [
    "send_trx(ETH, eth_acc,\"0xA0A0173f7DdFee91df5C052319F20Aad81312a6B\", 1000)"
   ]
  },
  {
   "cell_type": "code",
   "execution_count": null,
   "id": "e2e566bf-812f-48c7-9d4a-411b5815c6a3",
   "metadata": {},
   "outputs": [],
   "source": []
  }
 ],
 "metadata": {
  "kernelspec": {
   "display_name": "Python 3",
   "language": "python",
   "name": "python3"
  },
  "language_info": {
   "codemirror_mode": {
    "name": "ipython",
    "version": 3
   },
   "file_extension": ".py",
   "mimetype": "text/x-python",
   "name": "python",
   "nbconvert_exporter": "python",
   "pygments_lexer": "ipython3",
   "version": "3.8.8"
  }
 },
 "nbformat": 4,
 "nbformat_minor": 5
}
